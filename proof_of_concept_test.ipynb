{
 "cells": [
  {
   "cell_type": "code",
   "execution_count": 7,
   "metadata": {
    "vscode": {
     "languageId": "powershell"
    }
   },
   "outputs": [
    {
     "name": "stdout",
     "output_type": "stream",
     "text": [
      "Requirement already satisfied: instaloader in /opt/anaconda3/lib/python3.11/site-packages (4.13.2)\n",
      "Requirement already satisfied: requests>=2.4 in /opt/anaconda3/lib/python3.11/site-packages (from instaloader) (2.31.0)\n",
      "Requirement already satisfied: charset-normalizer<4,>=2 in /opt/anaconda3/lib/python3.11/site-packages (from requests>=2.4->instaloader) (2.0.4)\n",
      "Requirement already satisfied: idna<4,>=2.5 in /opt/anaconda3/lib/python3.11/site-packages (from requests>=2.4->instaloader) (3.4)\n",
      "Requirement already satisfied: urllib3<3,>=1.21.1 in /opt/anaconda3/lib/python3.11/site-packages (from requests>=2.4->instaloader) (2.0.7)\n",
      "Requirement already satisfied: certifi>=2017.4.17 in /opt/anaconda3/lib/python3.11/site-packages (from requests>=2.4->instaloader) (2024.6.2)\n",
      "Note: you may need to restart the kernel to use updated packages.\n"
     ]
    }
   ],
   "source": [
    "pip install instaloader"
   ]
  },
  {
   "cell_type": "code",
   "execution_count": 8,
   "metadata": {
    "vscode": {
     "languageId": "powershell"
    }
   },
   "outputs": [
    {
     "name": "stdout",
     "output_type": "stream",
     "text": [
      "Collecting vaderSentiment\n",
      "  Downloading vaderSentiment-3.3.2-py2.py3-none-any.whl.metadata (572 bytes)\n",
      "Requirement already satisfied: requests in /opt/anaconda3/lib/python3.11/site-packages (from vaderSentiment) (2.31.0)\n",
      "Requirement already satisfied: charset-normalizer<4,>=2 in /opt/anaconda3/lib/python3.11/site-packages (from requests->vaderSentiment) (2.0.4)\n",
      "Requirement already satisfied: idna<4,>=2.5 in /opt/anaconda3/lib/python3.11/site-packages (from requests->vaderSentiment) (3.4)\n",
      "Requirement already satisfied: urllib3<3,>=1.21.1 in /opt/anaconda3/lib/python3.11/site-packages (from requests->vaderSentiment) (2.0.7)\n",
      "Requirement already satisfied: certifi>=2017.4.17 in /opt/anaconda3/lib/python3.11/site-packages (from requests->vaderSentiment) (2024.6.2)\n",
      "Downloading vaderSentiment-3.3.2-py2.py3-none-any.whl (125 kB)\n",
      "\u001b[2K   \u001b[90m━━━━━━━━━━━━━━━━━━━━━━━━━━━━━━━━━━━━━━━━\u001b[0m \u001b[32m126.0/126.0 kB\u001b[0m \u001b[31m2.8 MB/s\u001b[0m eta \u001b[36m0:00:00\u001b[0m \u001b[36m0:00:01\u001b[0m\n",
      "\u001b[?25hInstalling collected packages: vaderSentiment\n",
      "Successfully installed vaderSentiment-3.3.2\n",
      "Note: you may need to restart the kernel to use updated packages.\n"
     ]
    }
   ],
   "source": [
    "pip install vaderSentiment"
   ]
  },
  {
   "cell_type": "code",
   "execution_count": 3,
   "metadata": {},
   "outputs": [],
   "source": [
    "import instaloader as il\n",
    "\n",
    "instance = il.Instaloader()\n",
    "instance.interactive_login('rithkott')\n"
   ]
  },
  {
   "cell_type": "code",
   "execution_count": 11,
   "metadata": {},
   "outputs": [],
   "source": [
    "post = il.Post.from_shortcode(instance.context, 'DB7RHb3t5qh')\n",
    "count = 0\n",
    "comments = []\n",
    "for comment in post.get_comments():\n",
    "    comments.append(comment.text)\n",
    "    count += 1\n",
    "    if count >= 100:\n",
    "        break"
   ]
  },
  {
   "cell_type": "code",
   "execution_count": 9,
   "metadata": {},
   "outputs": [],
   "source": [
    "from vaderSentiment.vaderSentiment import SentimentIntensityAnalyzer\n",
    "\n",
    "analyzer = SentimentIntensityAnalyzer()"
   ]
  },
  {
   "cell_type": "code",
   "execution_count": 12,
   "metadata": {},
   "outputs": [
    {
     "name": "stdout",
     "output_type": "stream",
     "text": [
      "It’s not talent, just luck? A drive from P17 to P1 with no DRS to “ensure” overtakes and horrible conditions on top of it, opening up a gap all to way to 19 seconds in less then 26 rounds. With 17 fastest laps? If anything these conditions have shown the talent, and Max gave a masterclass. Was there some “luck” involved? Sure. Check the quali for your portion of that luck. But today’s drive was one of a champion. Sorry Lando, but you’re out of line here. You choked. {'neg': 0.129, 'neu': 0.752, 'pos': 0.119, 'compound': 0.2462}\n",
      "The guy doesn't deserve the hate he gets. And any other driver for that matter, these guys are humans not robots. They make mistakes. Lando will learn from this season and be stronger next year {'neg': 0.062, 'neu': 0.771, 'pos': 0.167, 'compound': 0.4936}\n",
      "Max’s quote about the British media was so unhinged 😭😭😭---------- {'neg': 0.389, 'neu': 0.611, 'pos': 0.0, 'compound': -0.8612}\n",
      "I think the real talent is going from P1 to P6------------------- {'neg': 0.0, 'neu': 0.781, 'pos': 0.219, 'compound': 0.4215}\n",
      "Bro explained how he won the Miami Grand Prix in perfect detail-- {'neg': 0.0, 'neu': 0.464, 'pos': 0.536, 'compound': 0.886}\n",
      "I remember that day when Hamilton broke the record for wins and this man said that there was nothing impressive about it, that with a fast car it was easy to win, I hope he learned his lesson. {'neg': 0.108, 'neu': 0.63, 'pos': 0.262, 'compound': 0.8315}\n",
      "Shitty thing to say when Max was the first to defend Lando when the safety car gave Lando the win in Miami {'neg': 0.123, 'neu': 0.651, 'pos': 0.226, 'compound': 0.4588}\n",
      "Lol....Lando simply has the best car of the grid today. After the red flag they all had brand new tires..... He just needed to drive like a race car driver and pass 4 cars. Max passed 16 being two on the red flag advantage.  Super Max!!!!!! {'neg': 0.0, 'neu': 0.753, 'pos': 0.247, 'compound': 0.9296}\n",
      "It's not talent going from p17 to p1?  Okay Lando coping as hard as he can. {'neg': 0.2, 'neu': 0.698, 'pos': 0.102, 'compound': -0.21}\n",
      "17 fastest laps just luck ohhh lando😂😂--------------------------- {'neg': 0.144, 'neu': 0.455, 'pos': 0.402, 'compound': 0.8316}\n",
      "Most unprofessional driver on the grid right now----------------- {'neg': 0.339, 'neu': 0.661, 'pos': 0.0, 'compound': -0.5563}\n",
      "\"It's not talent\" It is talent, mate.---------------------------- {'neg': 0.23, 'neu': 0.493, 'pos': 0.276, 'compound': 0.12}\n",
      "y'all in the comments are clearly being dense on purpose. he's always stated that sometimes you benefit from a red flag and some times it ruins your race and this is what happened to him today. nothing him or the team could do to prevent it. he's not saying max isn't talented but that he got indeed lucky today considering he still had to pit at the time and would've dropped multiple positions. he also admitted some time ago he got lucky in miami. it just happens when it happens. stop being dense to fit your hateful narrative, it's sad to see {'neg': 0.123, 'neu': 0.736, 'pos': 0.14, 'compound': 0.0256}\n",
      "bro had the audacity to say max’ win was pure luck 💀------------- {'neg': 0.0, 'neu': 0.595, 'pos': 0.405, 'compound': 0.7783}\n",
      "So bitter so salty. You did everything wrong. That camera shot when Max overtook Ocon and you were way off the track, swap position with Piastri but couldn’t catch up to Charles, among many other things. {'neg': 0.108, 'neu': 0.892, 'pos': 0.0, 'compound': -0.476}\n",
      "So all lando gets is a fine?👍 previous drivers have gotten ACTUAL penalties for what lando did {'neg': 0.0, 'neu': 0.909, 'pos': 0.091, 'compound': 0.2023}\n",
      "3 time race winner vs 3 tim world champion----------------------- {'neg': 0.0, 'neu': 0.476, 'pos': 0.524, 'compound': 0.8271}\n",
      "Bro says he’s unlucky after FIA: \n",
      "1. Let him pass Oscar and then deploys VSC to protect Oscar from Max. 2. Let everybody to cross the line in Qualy and show a red flag, when Max was in 3rd sector. 3. They didn’t give him the most obvious penalty ever for failling starting procedure, which cause a chaos on the grid. This is unluck, I can trust😂😂😂 {'neg': 0.124, 'neu': 0.706, 'pos': 0.17, 'compound': 0.7665}\n",
      "The most unbearable and loudmouthed driver on the grid----------- {'neg': 0.0, 'neu': 1.0, 'pos': 0.0, 'compound': 0.0}\n",
      "Duh duh duh duh Max Verstappen duh duh duh duh------------------- {'neg': 0.0, 'neu': 1.0, 'pos': 0.0, 'compound': 0.0}\n",
      "Talent? No DRS, extreme wet conditions P17-P1 vs P1-P6😂---------- {'neg': 0.198, 'neu': 0.483, 'pos': 0.319, 'compound': 0.5423}\n",
      "lando trying not to be a crybaby challenge (impossible)---------- {'neg': 0.0, 'neu': 0.86, 'pos': 0.14, 'compound': 0.0772}\n",
      "McLaren you have one mission for next year: Oscar main driver.--- {'neg': 0.0, 'neu': 1.0, 'pos': 0.0, 'compound': 0.0}\n",
      "Lando was simply acknowledging that sometimes, luck plays a role in racing. A strategic decision or a fortunate circumstance can significantly impact a race result. He wasn't diminishing the talent of the drivers, but rather pointing out the element of chance that can influence outcomes. Unfortunately, people misinterpret his words again and create unnecessary drama. It's disheartening to see so much negativity. Let's create a more positive and supportive F1 community. {'neg': 0.143, 'neu': 0.634, 'pos': 0.223, 'compound': 0.6653}\n",
      "Give those three points back to piastri-------------------------- {'neg': 0.0, 'neu': 1.0, 'pos': 0.0, 'compound': 0.0}\n",
      "From P17 to P1 bro that’s no luck that’s talent------------------ {'neg': 0.187, 'neu': 0.602, 'pos': 0.211, 'compound': 0.0823}\n",
      "The Brits learned today: you don’t poke the Lion🦁🇳🇱-------------- {'neg': 0.0, 'neu': 1.0, 'pos': 0.0, 'compound': 0.0}\n",
      "Bottling pole position multiple times, nice talent or should I blame it on the luck? {'neg': 0.109, 'neu': 0.5, 'pos': 0.391, 'compound': 0.7351}\n",
      "NOT A TALENT.... I lost every bit of respect for him...---------- {'neg': 0.318, 'neu': 0.492, 'pos': 0.19, 'compound': -0.2673}\n",
      "Lando was never going to be a champion because he makes to many mistakes and just complains and blames others {'neg': 0.282, 'neu': 0.578, 'pos': 0.141, 'compound': -0.4404}\n",
      "Cadê a punição dele de antes de começar a corrida?--------------- {'neg': 0.0, 'neu': 1.0, 'pos': 0.0, 'compound': 0.0}\n",
      "Such a cry baby-------------------------------------------------- {'neg': 0.508, 'neu': 0.492, 'pos': 0.0, 'compound': -0.4767}\n",
      "Even without the red flag, Max must have won. He was incredible, not making any mistakes. He did super clean moves under tough conditions, champions drive! {'neg': 0.04, 'neu': 0.532, 'pos': 0.428, 'compound': 0.9393}\n",
      "To be fair to Lando, he's been hating on the \"able to change tyres under a red flag\" rule since 2021. {'neg': 0.134, 'neu': 0.772, 'pos': 0.093, 'compound': -0.25}\n",
      "posting this is so unprofessional when you exactly what the people are going to talk about. it creates headlines and publicity, but at what cost? it creates space for people to take it out of context, as they have already done. {'neg': 0.058, 'neu': 0.848, 'pos': 0.094, 'compound': 0.1479}\n",
      "Piastri ganaba la Sprint y lo dejo pasar, lo mismo en la carrera le cedió el puesto!!! Le falta Talento a pesar de la ayuda de la FIA!!!! Mientras Max le dió una MásterClass de manejo y por eso es el Campeón y mejor Piloto. {'neg': 0.0, 'neu': 1.0, 'pos': 0.0, 'compound': 0.0}\n",
      "Não entendi, tá na língua choro 😭-------------------------------- {'neg': 0.279, 'neu': 0.721, 'pos': 0.0, 'compound': -0.4767}\n",
      "Take this🍼------------------------------------------------------- {'neg': 0.0, 'neu': 1.0, 'pos': 0.0, 'compound': 0.0}\n",
      "It should have been red flagged! and before Franco crashed------- {'neg': 0.0, 'neu': 1.0, 'pos': 0.0, 'compound': 0.0}\n",
      "and then you destroy him for the aborted start with a 5000 Euro fine!!! {'neg': 0.241, 'neu': 0.66, 'pos': 0.099, 'compound': -0.5538}\n",
      "providing some context, thanks admin----------------------------- {'neg': 0.0, 'neu': 0.58, 'pos': 0.42, 'compound': 0.4404}\n",
      "Kkkkkkkkkkkkkk, uma coisa a gente sabe, ele sabe chorar.--------- {'neg': 0.0, 'neu': 1.0, 'pos': 0.0, 'compound': 0.0}\n",
      "Lando can’t win even with the help of the Fía and he’s mad that max is pure talent. {'neg': 0.121, 'neu': 0.528, 'pos': 0.351, 'compound': 0.7269}\n",
      "P17-p1----------------------------------------------------------- {'neg': 0.0, 'neu': 1.0, 'pos': 0.0, 'compound': 0.0}\n",
      "Bro, está demeritando la victoria de Max Verstappen en el mejor gp de Brasil de la historia según el 7 veces campeón del mundo Lewis Hamilton 💀💀 {'neg': 0.0, 'neu': 1.0, 'pos': 0.0, 'compound': 0.0}\n",
      "Wow! Max has more talent in his toe than you👏👏------------------- {'neg': 0.0, 'neu': 0.625, 'pos': 0.375, 'compound': 0.8012}\n",
      "Turning into a kid!---------------------------------------------- {'neg': 0.0, 'neu': 1.0, 'pos': 0.0, 'compound': 0.0}\n",
      "guys…phrasing is so important here. yes, what he said sounded wrong. really bad phrasing. but have we considered that he was saying, that it was MCLAREN’S luck that they didn’t make the right decision. YES it worked out for redbull. YES max winning was pure talent. what wasn’t talent? mclaren making the wrong call on the VSC. THAT is bad luck. THAT is what he’s referring to; his luck, and not max’s. am i 100% in support of lando’s every word? no. he doesn’t always say the right thing and it gets him in trouble a lot. but in this case, there is a phrasing element. so please think before you comment something that literally EVERYONE (yes, that means drivers too) can see {'neg': 0.099, 'neu': 0.617, 'pos': 0.284, 'compound': 0.9867}\n",
      "People..... Lando is talking about SAFETY CAR. Not about the talent of the drivers, but about luck when the safety car comes. When you prove me that predicting a safety car withing 1 second is an act of talent and not luck, I will be mad with you.  But I do get it, it would be boring to actually listen what he says.. {'neg': 0.145, 'neu': 0.647, 'pos': 0.208, 'compound': 0.7376}\n",
      "Everyone is taking this out of context grow tf up---------------- {'neg': 0.0, 'neu': 1.0, 'pos': 0.0, 'compound': 0.0}\n",
      "Cry big baby😂😂😂😂------------------------------------------------- {'neg': 0.268, 'neu': 0.351, 'pos': 0.381, 'compound': 0.8176}\n",
      "Reminds me of a whiny child-------------------------------------- {'neg': 0.0, 'neu': 1.0, 'pos': 0.0, 'compound': 0.0}\n",
      "Max literally defended Lando when people said it was luck and now he does this {'neg': 0.0, 'neu': 0.824, 'pos': 0.176, 'compound': 0.4588}\n",
      "“Just luck” to move from P17 to P1? Hmmmmkay 💀💀💀----------------- {'neg': 0.0, 'neu': 1.0, 'pos': 0.0, 'compound': 0.0}\n",
      "British Bias by Stewards for not giving penalty for start procedure infringement. It’s basic understanding of lights irrespective of the communication coming from team or not. {'neg': 0.211, 'neu': 0.709, 'pos': 0.08, 'compound': -0.4689}\n",
      "How do people not get what hes saying 😭💀------------------------- {'neg': 0.22, 'neu': 0.78, 'pos': 0.0, 'compound': -0.4767}\n",
      "Everyone saying that he means max being lucky but not understanding that he meant the read flag and that Red Bull didn’t pit yet {'neg': 0.0, 'neu': 0.924, 'pos': 0.076, 'compound': 0.2263}\n",
      "why there is \"🍼\" emoji sugestion on my comment------------------- {'neg': 0.0, 'neu': 1.0, 'pos': 0.0, 'compound': 0.0}\n",
      "@insta04111983 wat een jankerd----------------------------------- {'neg': 0.0, 'neu': 1.0, 'pos': 0.0, 'compound': 0.0}\n",
      "I don’t think he’s meaning Max didn’t drive with talent, I think he’s speaking of the context of the red flag luck only and how sometimes it benefits some and not others and that’s the luck of the draw. This seems to be getting blown way out of proportion and people drawing conclusions that aren’t proven whatsoever. I’m a Max fan and I think what he’s saying is true in the context of red flags/safety cars coming out. Some teams test their luck and hope they get called, and sometimes it pays off. I think Lando knows just how talented Max is. {'neg': 0.0, 'neu': 0.783, 'pos': 0.217, 'compound': 0.9741}\n",
      "Its just luck that your drive on average 1.5 seconds faster than your opponent with a proven slower car. Nothing to do with talent. Lando is starting to sound like Lulu 😂😂😂😂 {'neg': 0.107, 'neu': 0.563, 'pos': 0.331, 'compound': 0.9578}\n",
      "This man misses already his chances to be a champion 😂😂😂😂😂😂😂----- {'neg': 0.201, 'neu': 0.371, 'pos': 0.428, 'compound': 0.9723}\n",
      "while i think this comment was worded unprofessionally (much like other unnecessary comments lando made), i think people are really reaching. he wasn’t specifically talking about max here, more about how him and george had bad luck with pitting and everyone essentially getting a free pit stop, which is true. i agree that it downplays the fantastic drive max did (as he likely could’ve won even without the red flag), as well as downplaying the talent of both alpines which is ridiculous when lando simply had a poor drive. but assuming that he’s saying that max isn’t talented is just bad comprehension {'neg': 0.102, 'neu': 0.705, 'pos': 0.194, 'compound': 0.8045}\n",
      "he‘s right tho--------------------------------------------------- {'neg': 0.0, 'neu': 1.0, 'pos': 0.0, 'compound': 0.0}\n",
      "what max fans want lando to say: “max, my god and savior, i look up to you” {'neg': 0.0, 'neu': 0.815, 'pos': 0.185, 'compound': 0.34}\n",
      "Se eu fosse a McLaren demitiria no vestiário @lfsantana26-------- {'neg': 0.216, 'neu': 0.784, 'pos': 0.0, 'compound': -0.296}\n",
      "Again? Lando NoWINS---------------------------------------------- {'neg': 0.0, 'neu': 1.0, 'pos': 0.0, 'compound': 0.0}\n",
      "Lucky is that you can play 1 good game, lucky is that they stop your teammate from finishing in front of you. finishing first starting from 17th place is not luck. You only know how to cry Norris. {'neg': 0.157, 'neu': 0.624, 'pos': 0.219, 'compound': 0.4802}\n",
      "L Norris for a reason. 💀 L L L----------------------------------- {'neg': 0.0, 'neu': 0.251, 'pos': 0.749, 'compound': 0.9426}\n",
      "The one who got the Pole by swapping positions and couldn’t retain it has spoken {'neg': 0.0, 'neu': 1.0, 'pos': 0.0, 'compound': 0.0}\n",
      "If you listen he didn’t meant Max but the whole situation around red flag so stop crying and enjoy the race we had {'neg': 0.256, 'neu': 0.612, 'pos': 0.132, 'compound': -0.6208}\n",
      "This weekend was purely revenge against the FIA and lando. He cannot stop complaining, max is our hero {'neg': 0.149, 'neu': 0.565, 'pos': 0.286, 'compound': 0.3372}\n",
      "The boy is the greatest in one thing: the most spoiled on the grid. Congrats! {'neg': 0.0, 'neu': 0.622, 'pos': 0.378, 'compound': 0.8356}\n",
      "Tadinho do menino, tomou uma coça que não sabe nem onde é o aeroporto 😂😂😂 {'neg': 0.142, 'neu': 0.574, 'pos': 0.284, 'compound': 0.8271}\n",
      "Leave Lando alone------------------------------------------------ {'neg': 0.762, 'neu': 0.238, 'pos': 0.0, 'compound': -0.296}\n",
      "Used to like this kid-------------------------------------------- {'neg': 0.0, 'neu': 0.615, 'pos': 0.385, 'compound': 0.3612}\n",
      "@landonorris who was on pole that afternoon? Max started at 17th Place. Don’t make me laugh! Only @skysportf1 is on your side. {'neg': 0.0, 'neu': 0.844, 'pos': 0.156, 'compound': 0.5983}\n",
      "Max would have won without the red flag!------------------------- {'neg': 0.0, 'neu': 0.637, 'pos': 0.363, 'compound': 0.6114}\n",
      "y’all really acting like he said anything personal about max. He was commenting on strategy and pitting and the luck around that. No one is denying Max his brilliance, including Lando {'neg': 0.114, 'neu': 0.646, 'pos': 0.24, 'compound': 0.7251}\n",
      "It’s strategy Norris, and better driving. \n",
      "You can’t even win with Oscar’s help. {'neg': 0.0, 'neu': 0.515, 'pos': 0.485, 'compound': 0.8555}\n",
      "Just luck 🤣 Fastest race lap Verstappen was 1:20.472 and Norris 1:21.517. More than a second faster and had nothing to do with red flags and SC. {'neg': 0.0, 'neu': 0.824, 'pos': 0.176, 'compound': 0.7351}\n",
      "“It’s not talent” says the kid in the maclaren------------------- {'neg': 0.0, 'neu': 1.0, 'pos': 0.0, 'compound': 0.0}\n",
      "SHAME ON YOU FORMULA 1 FOR POSTING THIS WITHOUT A CONTEXT I'M SO SICK OF THE HATE TOWARDS LANDO,  he clearly meant luck abt staying out before the red flag it just happens to anyone and he can say whatever he wants as long as other drivers do the same {'neg': 0.22, 'neu': 0.692, 'pos': 0.088, 'compound': -0.8919}\n",
      "This kid seems to have grown an ego while being light years away from Max who he will never be come. From lucky in Miami getting  that yellow which led to his first win to Brit driven FIA sponsored by McLaren, handing the opportunity to a WC title…….He still couldn’t get it done. Really look forward  to Piastri giving him lessons next season. Unappreciative little kid {'neg': 0.0, 'neu': 0.84, 'pos': 0.16, 'compound': 0.8957}\n",
      "Without talent and effort no luck will work 👊🏻------------------- {'neg': 0.304, 'neu': 0.696, 'pos': 0.0, 'compound': -0.5875}\n",
      "Most Talented Pole bottler😂😂😂------------------------------------ {'neg': 0.174, 'neu': 0.367, 'pos': 0.459, 'compound': 0.9061}\n",
      "You have the audicaty to talk about Max like this? who do you think you are, mate? XDDD cause you be acting like you are 13 time world champion with 3 wins only xdxdddddd {'neg': 0.0, 'neu': 0.698, 'pos': 0.302, 'compound': 0.9179}\n",
      "Lando’s comment is way more saltier than Dead Sea 👀💀------------- {'neg': 0.313, 'neu': 0.687, 'pos': 0.0, 'compound': -0.6771}\n",
      "El la Quality fue \"Your Way\", pero ahí no dan puntos, en la carrera es donde dan puntos 🔥👏 #MaxChamp2024 @nattierperez @bleezwmc {'neg': 0.173, 'neu': 0.827, 'pos': 0.0, 'compound': -0.5574}\n",
      "“It shouldn’t have been a red flag.” Bro what? 😂 there was legit standing water EVERYWHERE with 0 visibility {'neg': 0.071, 'neu': 0.787, 'pos': 0.142, 'compound': 0.4404}\n",
      "Ya ya \n",
      "Still Max Wins and Will Win rest of Races----------------- {'neg': 0.0, 'neu': 0.545, 'pos': 0.455, 'compound': 0.8176}\n",
      "Yep sir, it was “Luck”. Talent is what you call going from P1 to P6, isn’t it? {'neg': 0.0, 'neu': 0.75, 'pos': 0.25, 'compound': 0.6124}\n",
      "For the fans I don’t think he implied max has no talent but that he got lucky with red flags, still could’ve accepted the defeat much more gracefully congratulating the better driver like everyone else did {'neg': 0.107, 'neu': 0.546, 'pos': 0.348, 'compound': 0.9303}\n",
      "🍼🍼🍼🍼🍼🍼🍼---------------------------------------------------------- {'neg': 0.0, 'neu': 1.0, 'pos': 0.0, 'compound': 0.0}\n",
      "Young drivers.. take notes on « what not to do when you bottle it race after race » ✍️ {'neg': 0.0, 'neu': 1.0, 'pos': 0.0, 'compound': 0.0}\n",
      "Não ta dando pra te defender------------------------------------- {'neg': 0.0, 'neu': 0.781, 'pos': 0.219, 'compound': 0.1027}\n",
      "Not talent, just lucky🤣 from P17 to P1--------------------------- {'neg': 0.261, 'neu': 0.56, 'pos': 0.179, 'compound': -0.119}\n",
      "Why don’t you guys get that he’s talking about the tyre situation? {'neg': 0.0, 'neu': 1.0, 'pos': 0.0, 'compound': 0.0}\n",
      "Simply lovely 😂😂------------------------------------------------- {'neg': 0.171, 'neu': 0.315, 'pos': 0.514, 'compound': 0.8625}\n",
      "🤡🤡🤡🤡🤡🤡🤡🤡--------------------------------------------------------- {'neg': 0.0, 'neu': 1.0, 'pos': 0.0, 'compound': 0.0}\n"
     ]
    }
   ],
   "source": [
    "\n",
    "for sentence in comments:\n",
    "    vs = analyzer.polarity_scores(sentence)\n",
    "    print(\"{:-<65} {}\".format(sentence, str(vs)))"
   ]
  }
 ],
 "metadata": {
  "kernelspec": {
   "display_name": "Python 3",
   "language": "python",
   "name": "python3"
  },
  "language_info": {
   "codemirror_mode": {
    "name": "ipython",
    "version": 3
   },
   "file_extension": ".py",
   "mimetype": "text/x-python",
   "name": "python",
   "nbconvert_exporter": "python",
   "pygments_lexer": "ipython3",
   "version": "3.11.7"
  }
 },
 "nbformat": 4,
 "nbformat_minor": 2
}
